{
  "cells": [
    {
      "cell_type": "markdown",
      "metadata": {
        "id": "yROty7vii5bL"
      },
      "source": [
        "![](../docs/banner.png)"
      ]
    },
    {
      "cell_type": "markdown",
      "metadata": {
        "id": "fAnPms7mi5bO"
      },
      "source": [
        "# NumPy\n"
      ]
    },
    {
      "cell_type": "markdown",
      "metadata": {
        "id": "0QVY-L0ji5bP"
      },
      "source": [
        "## Exercises"
      ]
    },
    {
      "cell_type": "markdown",
      "metadata": {
        "id": "F2N_dOQzi5bQ"
      },
      "source": [
        "### 1."
      ]
    },
    {
      "cell_type": "markdown",
      "metadata": {
        "id": "W5LaXUU7i5bQ"
      },
      "source": [
        "Import numpy under the alias `np`."
      ]
    },
    {
      "cell_type": "code",
      "execution_count": 1,
      "metadata": {
        "id": "th7TOVFXi5bQ"
      },
      "outputs": [],
      "source": [
        "import numpy as np"
      ]
    },
    {
      "cell_type": "markdown",
      "metadata": {
        "id": "xhxgkOIei5bR"
      },
      "source": [
        "### 2."
      ]
    },
    {
      "cell_type": "markdown",
      "metadata": {
        "id": "VFHsEU-0i5bS"
      },
      "source": [
        "Create the following arrays:\n",
        "\n",
        "1. Create an array of 5 zeros.\n",
        "2. Create an array of 10 ones.\n",
        "3. Create an array of 5 3.141s.\n",
        "4. Create an array of the integers 1 to 20.\n",
        "5. Create a 5 x 5 matrix of ones with a dtype `int`."
      ]
    },
    {
      "cell_type": "code",
      "execution_count": 10,
      "metadata": {
        "id": "mEBaeHaAi5bT",
        "outputId": "3e5f712c-ee82-48d4-8b34-9d04775768d4",
        "colab": {
          "base_uri": "https://localhost:8080/"
        }
      },
      "outputs": [
        {
          "output_type": "execute_result",
          "data": {
            "text/plain": [
              "array([[1, 1, 1, 1, 1],\n",
              "       [1, 1, 1, 1, 1],\n",
              "       [1, 1, 1, 1, 1],\n",
              "       [1, 1, 1, 1, 1],\n",
              "       [1, 1, 1, 1, 1]])"
            ]
          },
          "metadata": {},
          "execution_count": 10
        }
      ],
      "source": [
        "np.zeros(5)\n",
        "np.ones(10)\n",
        "np.full(5,3.141)\n",
        "np.arange(1,21)\n",
        "np.ones((5,5),dtype=int)"
      ]
    },
    {
      "cell_type": "markdown",
      "metadata": {
        "id": "UBp5w3Sti5bU"
      },
      "source": [
        "### 3."
      ]
    },
    {
      "cell_type": "markdown",
      "metadata": {
        "id": "lF8XL653i5bV"
      },
      "source": [
        "Use numpy to:\n",
        "1. Create an 3D matrix of 3 x 3 x 3 full of random numbers drawn from a standard normal distribution (hint: `np.random.randn()`)\n",
        "2. Reshape the above array into shape (27,)"
      ]
    },
    {
      "cell_type": "code",
      "execution_count": 19,
      "metadata": {
        "id": "F55n76JPi5bV",
        "outputId": "51816d84-0c98-4fd3-aef9-7c508c246ef9",
        "colab": {
          "base_uri": "https://localhost:8080/"
        }
      },
      "outputs": [
        {
          "output_type": "execute_result",
          "data": {
            "text/plain": [
              "array([ 0.19441694,  1.68682395,  1.63893759,  0.2496481 ,  0.36442122,\n",
              "        0.14046017,  1.06870263, -0.99661591,  1.04300131,  2.04506441,\n",
              "        0.60801738,  1.26408617, -1.51683826, -0.62293943,  0.94919409,\n",
              "        1.52285672,  0.29436585,  0.89798413, -0.95764984, -0.64827457,\n",
              "        0.34285305, -0.77674473, -0.0169466 ,  0.24720324,  1.18533351,\n",
              "        0.59755874,  0.61067298])"
            ]
          },
          "metadata": {},
          "execution_count": 19
        }
      ],
      "source": [
        "# Your answer here.\n",
        "t = np.random.randn(3,3,3)\n",
        "t.reshape(27,)\n"
      ]
    },
    {
      "cell_type": "markdown",
      "metadata": {
        "id": "tYL6ectCi5bV"
      },
      "source": [
        "### 4."
      ]
    },
    {
      "cell_type": "markdown",
      "metadata": {
        "id": "yLICkRfGi5bW"
      },
      "source": [
        "Create an array of 20 linearly spaced numbers between 1 and 10."
      ]
    },
    {
      "cell_type": "code",
      "execution_count": 20,
      "metadata": {
        "id": "vpb4QaeFi5bW",
        "outputId": "bf2a7119-acf3-4158-96e1-c1396bbff643",
        "colab": {
          "base_uri": "https://localhost:8080/"
        }
      },
      "outputs": [
        {
          "output_type": "execute_result",
          "data": {
            "text/plain": [
              "array([ 1.        ,  1.47368421,  1.94736842,  2.42105263,  2.89473684,\n",
              "        3.36842105,  3.84210526,  4.31578947,  4.78947368,  5.26315789,\n",
              "        5.73684211,  6.21052632,  6.68421053,  7.15789474,  7.63157895,\n",
              "        8.10526316,  8.57894737,  9.05263158,  9.52631579, 10.        ])"
            ]
          },
          "metadata": {},
          "execution_count": 20
        }
      ],
      "source": [
        "# Your answer here.\n",
        "np.linspace(1,10,20)"
      ]
    },
    {
      "cell_type": "markdown",
      "metadata": {
        "id": "QnTqz8EHi5bW"
      },
      "source": [
        "### 5."
      ]
    },
    {
      "cell_type": "markdown",
      "metadata": {
        "id": "E-KXqY45i5bW"
      },
      "source": [
        "Run the following code to create an array of shape 4 x 4 and then use indexing to produce the outputs shown below."
      ]
    },
    {
      "cell_type": "code",
      "execution_count": 22,
      "metadata": {
        "id": "XSF7wfrni5bX",
        "outputId": "2750728a-0101-413e-e1bd-948c0b793f67",
        "colab": {
          "base_uri": "https://localhost:8080/"
        }
      },
      "outputs": [
        {
          "output_type": "execute_result",
          "data": {
            "text/plain": [
              "array([[ 1,  2,  3,  4,  5],\n",
              "       [ 6,  7,  8,  9, 10],\n",
              "       [11, 12, 13, 14, 15],\n",
              "       [16, 17, 18, 19, 20],\n",
              "       [21, 22, 23, 24, 25]])"
            ]
          },
          "metadata": {},
          "execution_count": 22
        }
      ],
      "source": [
        "import numpy as np\n",
        "a = np.arange(1, 26).reshape(5, -1)\n",
        "a"
      ]
    },
    {
      "cell_type": "markdown",
      "metadata": {
        "id": "p3sq1kMpi5bX"
      },
      "source": [
        "```python\n",
        "20\n",
        "```"
      ]
    },
    {
      "cell_type": "code",
      "execution_count": 24,
      "metadata": {
        "id": "-WGksemGi5bX",
        "outputId": "04464896-786d-45ec-acc0-fcf0abf7dd35",
        "colab": {
          "base_uri": "https://localhost:8080/"
        }
      },
      "outputs": [
        {
          "output_type": "execute_result",
          "data": {
            "text/plain": [
              "20"
            ]
          },
          "metadata": {},
          "execution_count": 24
        }
      ],
      "source": [
        "# Your answer here.\n",
        "a[3,4]"
      ]
    },
    {
      "cell_type": "markdown",
      "metadata": {
        "id": "8eqKOfURi5bX"
      },
      "source": [
        "```python\n",
        "array([[ 9, 10],\n",
        "       [14, 15],\n",
        "       [19, 20],\n",
        "       [24, 25]])\n",
        "```"
      ]
    },
    {
      "cell_type": "code",
      "execution_count": null,
      "metadata": {
        "id": "mHP-cxtpi5bX"
      },
      "outputs": [],
      "source": [
        "# Your answer here.\n",
        "a[1:,3:]\n"
      ]
    },
    {
      "cell_type": "markdown",
      "metadata": {
        "id": "cjTP6JIai5bY"
      },
      "source": [
        "```python\n",
        "array([ 6,  7,  8,  9, 10])\n",
        "```"
      ]
    },
    {
      "cell_type": "code",
      "execution_count": 29,
      "metadata": {
        "id": "iTV4xBIWi5bY",
        "outputId": "71b4193a-c017-4322-d56a-5cf3a432e94e",
        "colab": {
          "base_uri": "https://localhost:8080/"
        }
      },
      "outputs": [
        {
          "output_type": "execute_result",
          "data": {
            "text/plain": [
              "array([ 6,  7,  8,  9, 10])"
            ]
          },
          "metadata": {},
          "execution_count": 29
        }
      ],
      "source": [
        "# Your answer here.\n",
        "a[1,:]"
      ]
    },
    {
      "cell_type": "markdown",
      "metadata": {
        "id": "eIAD600ii5bY"
      },
      "source": [
        "```python\n",
        "array([[11, 12, 13, 14, 15],\n",
        "       [16, 17, 18, 19, 20]])\n",
        "```"
      ]
    },
    {
      "cell_type": "code",
      "execution_count": 31,
      "metadata": {
        "id": "QkfR4Grti5bY",
        "outputId": "25deb6e4-3601-40ab-c1ba-2c525dc492ef",
        "colab": {
          "base_uri": "https://localhost:8080/"
        }
      },
      "outputs": [
        {
          "output_type": "execute_result",
          "data": {
            "text/plain": [
              "array([[11, 12, 13, 14, 15],\n",
              "       [16, 17, 18, 19, 20]])"
            ]
          },
          "metadata": {},
          "execution_count": 31
        }
      ],
      "source": [
        "# Your answer here.\n",
        "a[2:4,:]"
      ]
    },
    {
      "cell_type": "markdown",
      "metadata": {
        "id": "rJncVDyJi5bY"
      },
      "source": [
        "```python\n",
        "array([[ 8,  9],\n",
        "       [13, 14]])\n",
        "```"
      ]
    },
    {
      "cell_type": "code",
      "execution_count": 33,
      "metadata": {
        "id": "O3Qu4CuHi5bY",
        "outputId": "90e72c44-4bb0-40a1-a909-6caa2988825c",
        "colab": {
          "base_uri": "https://localhost:8080/"
        }
      },
      "outputs": [
        {
          "output_type": "execute_result",
          "data": {
            "text/plain": [
              "array([[ 8,  9],\n",
              "       [13, 14]])"
            ]
          },
          "metadata": {},
          "execution_count": 33
        }
      ],
      "source": [
        "# Your answer here.\n",
        "a[1:3,2:4]"
      ]
    },
    {
      "cell_type": "markdown",
      "metadata": {
        "id": "XLeaB5SOi5bZ"
      },
      "source": [
        "### 6."
      ]
    },
    {
      "cell_type": "markdown",
      "metadata": {
        "id": "LhEX7cYti5bZ"
      },
      "source": [
        "Calculate the sum of all the numbers in `a`."
      ]
    },
    {
      "cell_type": "code",
      "execution_count": 35,
      "metadata": {
        "id": "La1e4qmXi5bZ",
        "outputId": "1868f647-21a1-4953-e52b-4142de27a498",
        "colab": {
          "base_uri": "https://localhost:8080/"
        }
      },
      "outputs": [
        {
          "output_type": "execute_result",
          "data": {
            "text/plain": [
              "325"
            ]
          },
          "metadata": {},
          "execution_count": 35
        }
      ],
      "source": [
        "# Your answer here.\n",
        "a.sum()\n"
      ]
    },
    {
      "cell_type": "markdown",
      "metadata": {
        "id": "2fed1u_mi5bZ"
      },
      "source": [
        "### 7."
      ]
    },
    {
      "cell_type": "markdown",
      "metadata": {
        "id": "S0fH33OCi5bZ"
      },
      "source": [
        "Calculate the sum of each row in `a`."
      ]
    },
    {
      "cell_type": "code",
      "execution_count": 38,
      "metadata": {
        "id": "__qI1s7Yi5bZ",
        "outputId": "7dd97129-79e1-4f6b-8bc0-51bbc4603e56",
        "colab": {
          "base_uri": "https://localhost:8080/"
        }
      },
      "outputs": [
        {
          "output_type": "execute_result",
          "data": {
            "text/plain": [
              "array([ 15,  40,  65,  90, 115])"
            ]
          },
          "metadata": {},
          "execution_count": 38
        }
      ],
      "source": [
        "# Your answer here.\n",
        "a.sum(axis=1)"
      ]
    },
    {
      "cell_type": "markdown",
      "metadata": {
        "id": "yK1hxaS7i5bZ"
      },
      "source": [
        "### 8."
      ]
    },
    {
      "cell_type": "markdown",
      "metadata": {
        "id": "kXw13Ll6i5bZ"
      },
      "source": [
        "Extract all values of `a` greater than the mean of `a` (hint: use a boolean mask)."
      ]
    },
    {
      "cell_type": "code",
      "execution_count": 43,
      "metadata": {
        "id": "-LRVVp27i5bZ",
        "outputId": "c0527da3-b1fa-4a70-9999-6c6e003ae66f",
        "colab": {
          "base_uri": "https://localhost:8080/"
        }
      },
      "outputs": [
        {
          "output_type": "execute_result",
          "data": {
            "text/plain": [
              "array([14, 15, 16, 17, 18, 19, 20, 21, 22, 23, 24, 25])"
            ]
          },
          "metadata": {},
          "execution_count": 43
        }
      ],
      "source": [
        "# Your answer here.\n",
        "m = a.mean()\n",
        "z = a[(a > m)]\n",
        "z"
      ]
    },
    {
      "cell_type": "markdown",
      "metadata": {
        "id": "3_Sgk-Rki5bZ"
      },
      "source": [
        "### 9."
      ]
    },
    {
      "cell_type": "markdown",
      "metadata": {
        "id": "BOgmodFGi5bZ"
      },
      "source": [
        "Find the location of the minimum value in the following array `b`:"
      ]
    },
    {
      "cell_type": "code",
      "execution_count": null,
      "metadata": {
        "id": "qc40T2nIi5ba"
      },
      "outputs": [],
      "source": [
        "np.random.seed(123)\n",
        "b = np.random.randn(10)\n",
        "b"
      ]
    },
    {
      "cell_type": "code",
      "execution_count": 48,
      "metadata": {
        "id": "uYUWlruEi5ba",
        "outputId": "34a7aea6-8568-496a-b65e-c0297022d03b",
        "colab": {
          "base_uri": "https://localhost:8080/"
        }
      },
      "outputs": [
        {
          "output_type": "execute_result",
          "data": {
            "text/plain": [
              "6"
            ]
          },
          "metadata": {},
          "execution_count": 48
        }
      ],
      "source": [
        "# Your answer here.\n",
        "b.argmin()\n"
      ]
    },
    {
      "cell_type": "markdown",
      "metadata": {
        "id": "jScMHHQKi5ba"
      },
      "source": [
        "### 10."
      ]
    },
    {
      "cell_type": "markdown",
      "metadata": {
        "id": "1wuSnMvki5ba"
      },
      "source": [
        "Find the location of the maximum value in the following 2D array `c` (hint: there are many ways to do this question, but a quick search on stackoverflow.com will typically help you find the optimum solution for a problem, for example see [post](https://stackoverflow.com/questions/3584243/get-the-position-of-the-biggest-item-in-a-multi-dimensional-numpy-array)):"
      ]
    },
    {
      "cell_type": "code",
      "execution_count": null,
      "metadata": {
        "id": "2vUghTQri5ba"
      },
      "outputs": [],
      "source": [
        "np.random.seed(123)\n",
        "c = np.random.randn(3, 2)\n",
        "c"
      ]
    },
    {
      "cell_type": "code",
      "execution_count": 58,
      "metadata": {
        "id": "LN1keMf1i5bb",
        "outputId": "34b528e0-c386-4992-b016-3eafb31d36d8",
        "colab": {
          "base_uri": "https://localhost:8080/"
        }
      },
      "outputs": [
        {
          "output_type": "execute_result",
          "data": {
            "text/plain": [
              "5"
            ]
          },
          "metadata": {},
          "execution_count": 58
        }
      ],
      "source": [
        "max = c.max()\n",
        "max\n",
        "max_po = c.argmax()\n",
        "max_po"
      ]
    },
    {
      "cell_type": "markdown",
      "metadata": {
        "id": "jwrTRMkfi5bb"
      },
      "source": [
        "<hr>\n",
        "<hr>\n",
        "<hr>"
      ]
    }
  ],
  "metadata": {
    "kernelspec": {
      "display_name": "Python 3 (ipykernel)",
      "language": "python",
      "name": "python3"
    },
    "language_info": {
      "codemirror_mode": {
        "name": "ipython",
        "version": 3
      },
      "file_extension": ".py",
      "mimetype": "text/x-python",
      "name": "python",
      "nbconvert_exporter": "python",
      "pygments_lexer": "ipython3",
      "version": "3.9.7"
    },
    "colab": {
      "provenance": []
    }
  },
  "nbformat": 4,
  "nbformat_minor": 0
}